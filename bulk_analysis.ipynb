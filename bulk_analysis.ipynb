{
 "cells": [
  {
   "cell_type": "markdown",
   "metadata": {},
   "source": []
  },
  {
   "cell_type": "code",
   "execution_count": 1,
   "metadata": {},
   "outputs": [],
   "source": [
    "from pymongo import MongoClient\n",
    "import pandas as pd\n",
    "import matplotlib.pyplot as plt\n",
    "import pprint"
   ]
  },
  {
   "cell_type": "markdown",
   "metadata": {},
   "source": []
  },
  {
   "cell_type": "code",
   "execution_count": 9,
   "metadata": {},
   "outputs": [
    {
     "name": "stdout",
     "output_type": "stream",
     "text": [
      "{'_id': 'nyt://article/22fc94cd-2e4a-5af1-89f8-7260bf275729', 'abstract': 'The gunman who shot two parishioners at the West Freeway Church of Christ had come earlier looking for food and money, church leaders said.', 'web_url': 'https://www.nytimes.com/2019/12/31/us/texas-church-shooting-white-settlement.html', 'snippet': 'The gunman who shot two parishioners at the West Freeway Church of Christ had come earlier looking for food and money, church leaders said.', 'lead_paragraph': 'WHITE SETTLEMENT, Texas — Given West Freeway Church of Christ’s location, on a busy thoroughfare just off a major highway, vagabonds and homeless people regularly found their way inside. Sometimes, they sought spiritual help. But more often, they came asking for food, which the church would provide, and money, which it typically would not. ', 'print_section': 'A', 'print_page': '16', 'source': 'The New York Times', 'multimedia': [{'rank': 0, 'subtype': 'xlarge', 'caption': None, 'credit': None, 'type': 'image', 'url': 'images/2019/12/31/us/31TEXAS-CHURCH-vigil/merlin_166508412_c777dd44-dd3b-4964-901a-08f45fe037f4-articleLarge.jpg', 'height': 363, 'width': 600, 'subType': 'xlarge', 'crop_name': 'articleLarge', 'legacy': {'xlarge': 'images/2019/12/31/us/31TEXAS-CHURCH-vigil/merlin_166508412_c777dd44-dd3b-4964-901a-08f45fe037f4-articleLarge.jpg', 'xlargewidth': 600, 'xlargeheight': 363}}, {'rank': 0, 'subtype': 'jumbo', 'caption': None, 'credit': None, 'type': 'image', 'url': 'images/2019/12/31/us/31TEXAS-CHURCH-vigil/merlin_166508412_c777dd44-dd3b-4964-901a-08f45fe037f4-jumbo.jpg', 'height': 620, 'width': 1024, 'subType': 'jumbo', 'crop_name': 'jumbo', 'legacy': {}}, {'rank': 0, 'subtype': 'superJumbo', 'caption': None, 'credit': None, 'type': 'image', 'url': 'images/2019/12/31/us/31TEXAS-CHURCH-vigil/merlin_166508412_c777dd44-dd3b-4964-901a-08f45fe037f4-superJumbo.jpg', 'height': 1240, 'width': 2048, 'subType': 'superJumbo', 'crop_name': 'superJumbo', 'legacy': {}}, {'rank': 0, 'subtype': 'thumbnail', 'caption': None, 'credit': None, 'type': 'image', 'url': 'images/2019/12/31/us/31TEXAS-CHURCH-vigil/merlin_166508412_c777dd44-dd3b-4964-901a-08f45fe037f4-thumbStandard.jpg', 'height': 75, 'width': 75, 'subType': 'thumbnail', 'crop_name': 'thumbStandard', 'legacy': {'thumbnail': 'images/2019/12/31/us/31TEXAS-CHURCH-vigil/merlin_166508412_c777dd44-dd3b-4964-901a-08f45fe037f4-thumbStandard.jpg', 'thumbnailwidth': 75, 'thumbnailheight': 75}}, {'rank': 0, 'subtype': 'thumbLarge', 'caption': None, 'credit': None, 'type': 'image', 'url': 'images/2019/12/31/us/31TEXAS-CHURCH-vigil/merlin_166508412_c777dd44-dd3b-4964-901a-08f45fe037f4-thumbLarge.jpg', 'height': 150, 'width': 150, 'subType': 'thumbLarge', 'crop_name': 'thumbLarge', 'legacy': {}}], 'headline': {'main': '‘Battling a Demon’: Drifter Sought Help Before Texas Church Shooting', 'kicker': None, 'content_kicker': None, 'print_headline': 'Church Had Welcomed the Man Who Opened Fire', 'name': None, 'seo': None, 'sub': None}, 'keywords': [{'name': 'subject', 'value': 'Churches (Buildings)', 'rank': 1, 'major': 'N'}, {'name': 'subject', 'value': 'Murders, Attempted Murders and Homicides', 'rank': 2, 'major': 'N'}, {'name': 'organizations', 'value': 'West Freeway Church of Christ (White Settlement, Tex)', 'rank': 3, 'major': 'N'}, {'name': 'glocations', 'value': 'Fort Worth (Tex)', 'rank': 4, 'major': 'N'}, {'name': 'glocations', 'value': 'White Settlement (Tex)', 'rank': 5, 'major': 'N'}, {'name': 'glocations', 'value': 'Texas', 'rank': 6, 'major': 'N'}], 'pub_date': '2020-01-01T00:14:41+0000', 'document_type': 'article', 'news_desk': 'National', 'section_name': 'U.S.', 'byline': {'original': 'By Dave Montgomery, Anemona Hartocollis and Rick Rojas', 'person': [{'firstname': 'Dave', 'middlename': None, 'lastname': 'Montgomery', 'qualifier': None, 'title': None, 'role': 'reported', 'organization': '', 'rank': 1}, {'firstname': 'Anemona', 'middlename': None, 'lastname': 'Hartocollis', 'qualifier': None, 'title': None, 'role': 'reported', 'organization': '', 'rank': 2}, {'firstname': 'Rick', 'middlename': None, 'lastname': 'Rojas', 'qualifier': None, 'title': None, 'role': 'reported', 'organization': '', 'rank': 3}], 'organization': None}, 'type_of_material': 'News', 'word_count': 1295, 'uri': 'nyt://article/22fc94cd-2e4a-5af1-89f8-7260bf275729'}\n"
     ]
    }
   ],
   "source": [
    "client = MongoClient(\n",
    "    host=\"127.0.0.1\",\n",
    "    port = 60017,\n",
    "    username= 'admin',\n",
    "    password= 'pass'\n",
    ")\n",
    "\n",
    "mydb = client[\"database_nyt\"]\n",
    "archive_collection = mydb[\"archive_articles\"]\n",
    "\n",
    "print(archive_collection.find_one())"
   ]
  },
  {
   "cell_type": "markdown",
   "metadata": {},
   "source": []
  },
  {
   "cell_type": "code",
   "execution_count": 4,
   "metadata": {},
   "outputs": [
    {
     "name": "stdout",
     "output_type": "stream",
     "text": [
      "Number of articles containing inflation in snippet :414\n",
      "Number of articles containing inflation in headline :393\n",
      "Number of articles containing inflation in keywords :1107\n"
     ]
    }
   ],
   "source": [
    "query = {'snippet': {'$regex': '.*inflation.*', '$options': 'i'}}\n",
    "articles_inflation_in_snippet = archive_collection.find(query)\n",
    "print('Number of articles containing inflation in snippet :' + str(len(list(articles_inflation_in_snippet))))\n",
    "\n",
    "query = {'headline.main': {'$regex': '.*inflation.*', '$options': 'i'}}\n",
    "articles_inflation_in_headline = archive_collection.find(query)\n",
    "print('Number of articles containing inflation in headline :' + str(len(list(articles_inflation_in_headline))))\n",
    "\n",
    "query = {'keywords': {'$elemMatch':{'value': {'$regex': '.*inflation.*', '$options': 'i'}}}}\n",
    "articles_inflation_in_keywords = archive_collection.find(query)\n",
    "print('Number of articles containing inflation in keywords :' + str(len(list(articles_inflation_in_keywords))))"
   ]
  },
  {
   "cell_type": "markdown",
   "metadata": {},
   "source": []
  },
  {
   "cell_type": "code",
   "execution_count": null,
   "metadata": {},
   "outputs": [],
   "source": []
  }
 ],
 "metadata": {
  "kernelspec": {
   "display_name": ".venv",
   "language": "python",
   "name": "python3"
  },
  "language_info": {
   "codemirror_mode": {
    "name": "ipython",
    "version": 3
   },
   "file_extension": ".py",
   "mimetype": "text/x-python",
   "name": "python",
   "nbconvert_exporter": "python",
   "pygments_lexer": "ipython3",
   "version": "3.9.5"
  },
  "orig_nbformat": 4
 },
 "nbformat": 4,
 "nbformat_minor": 2
}
